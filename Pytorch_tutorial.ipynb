{
  "nbformat": 4,
  "nbformat_minor": 0,
  "metadata": {
    "colab": {
      "name": "Pytorch_tutorial.ipynb",
      "provenance": [],
      "collapsed_sections": [
        "tIC-LwmmpMu6",
        "R7YCIGY-cL5J"
      ]
    },
    "kernelspec": {
      "name": "python3",
      "display_name": "Python 3"
    },
    "language_info": {
      "name": "python"
    },
    "accelerator": "GPU",
    "widgets": {
      "application/vnd.jupyter.widget-state+json": {
        "5c96efeadade43c085db7b780ab0efac": {
          "model_module": "@jupyter-widgets/controls",
          "model_name": "HBoxModel",
          "state": {
            "_view_name": "HBoxView",
            "_dom_classes": [],
            "_model_name": "HBoxModel",
            "_view_module": "@jupyter-widgets/controls",
            "_model_module_version": "1.5.0",
            "_view_count": null,
            "_view_module_version": "1.5.0",
            "box_style": "",
            "layout": "IPY_MODEL_2d62cb90123e4577a71c0b20e3a2d21c",
            "_model_module": "@jupyter-widgets/controls",
            "children": [
              "IPY_MODEL_7f3e9680a110486bb889486d944973ef",
              "IPY_MODEL_dce2b6dbbd8644eba3dfa62c18a3d6ab"
            ]
          }
        },
        "2d62cb90123e4577a71c0b20e3a2d21c": {
          "model_module": "@jupyter-widgets/base",
          "model_name": "LayoutModel",
          "state": {
            "_view_name": "LayoutView",
            "grid_template_rows": null,
            "right": null,
            "justify_content": null,
            "_view_module": "@jupyter-widgets/base",
            "overflow": null,
            "_model_module_version": "1.2.0",
            "_view_count": null,
            "flex_flow": null,
            "width": null,
            "min_width": null,
            "border": null,
            "align_items": null,
            "bottom": null,
            "_model_module": "@jupyter-widgets/base",
            "top": null,
            "grid_column": null,
            "overflow_y": null,
            "overflow_x": null,
            "grid_auto_flow": null,
            "grid_area": null,
            "grid_template_columns": null,
            "flex": null,
            "_model_name": "LayoutModel",
            "justify_items": null,
            "grid_row": null,
            "max_height": null,
            "align_content": null,
            "visibility": null,
            "align_self": null,
            "height": null,
            "min_height": null,
            "padding": null,
            "grid_auto_rows": null,
            "grid_gap": null,
            "max_width": null,
            "order": null,
            "_view_module_version": "1.2.0",
            "grid_template_areas": null,
            "object_position": null,
            "object_fit": null,
            "grid_auto_columns": null,
            "margin": null,
            "display": null,
            "left": null
          }
        },
        "7f3e9680a110486bb889486d944973ef": {
          "model_module": "@jupyter-widgets/controls",
          "model_name": "FloatProgressModel",
          "state": {
            "_view_name": "ProgressView",
            "style": "IPY_MODEL_d5d01ec39b814c97801bef11d63c13d2",
            "_dom_classes": [],
            "description": "",
            "_model_name": "FloatProgressModel",
            "bar_style": "success",
            "max": 170498071,
            "_view_module": "@jupyter-widgets/controls",
            "_model_module_version": "1.5.0",
            "value": 170498071,
            "_view_count": null,
            "_view_module_version": "1.5.0",
            "orientation": "horizontal",
            "min": 0,
            "description_tooltip": null,
            "_model_module": "@jupyter-widgets/controls",
            "layout": "IPY_MODEL_5250cbf98b88488190e852e1db6b848e"
          }
        },
        "dce2b6dbbd8644eba3dfa62c18a3d6ab": {
          "model_module": "@jupyter-widgets/controls",
          "model_name": "HTMLModel",
          "state": {
            "_view_name": "HTMLView",
            "style": "IPY_MODEL_0f84d71a044848d1b24b970061ece711",
            "_dom_classes": [],
            "description": "",
            "_model_name": "HTMLModel",
            "placeholder": "​",
            "_view_module": "@jupyter-widgets/controls",
            "_model_module_version": "1.5.0",
            "value": " 170499072/? [00:10&lt;00:00, 16645412.90it/s]",
            "_view_count": null,
            "_view_module_version": "1.5.0",
            "description_tooltip": null,
            "_model_module": "@jupyter-widgets/controls",
            "layout": "IPY_MODEL_b29b39aabd1a4929b451b7f92dce255d"
          }
        },
        "d5d01ec39b814c97801bef11d63c13d2": {
          "model_module": "@jupyter-widgets/controls",
          "model_name": "ProgressStyleModel",
          "state": {
            "_view_name": "StyleView",
            "_model_name": "ProgressStyleModel",
            "description_width": "initial",
            "_view_module": "@jupyter-widgets/base",
            "_model_module_version": "1.5.0",
            "_view_count": null,
            "_view_module_version": "1.2.0",
            "bar_color": null,
            "_model_module": "@jupyter-widgets/controls"
          }
        },
        "5250cbf98b88488190e852e1db6b848e": {
          "model_module": "@jupyter-widgets/base",
          "model_name": "LayoutModel",
          "state": {
            "_view_name": "LayoutView",
            "grid_template_rows": null,
            "right": null,
            "justify_content": null,
            "_view_module": "@jupyter-widgets/base",
            "overflow": null,
            "_model_module_version": "1.2.0",
            "_view_count": null,
            "flex_flow": null,
            "width": null,
            "min_width": null,
            "border": null,
            "align_items": null,
            "bottom": null,
            "_model_module": "@jupyter-widgets/base",
            "top": null,
            "grid_column": null,
            "overflow_y": null,
            "overflow_x": null,
            "grid_auto_flow": null,
            "grid_area": null,
            "grid_template_columns": null,
            "flex": null,
            "_model_name": "LayoutModel",
            "justify_items": null,
            "grid_row": null,
            "max_height": null,
            "align_content": null,
            "visibility": null,
            "align_self": null,
            "height": null,
            "min_height": null,
            "padding": null,
            "grid_auto_rows": null,
            "grid_gap": null,
            "max_width": null,
            "order": null,
            "_view_module_version": "1.2.0",
            "grid_template_areas": null,
            "object_position": null,
            "object_fit": null,
            "grid_auto_columns": null,
            "margin": null,
            "display": null,
            "left": null
          }
        },
        "0f84d71a044848d1b24b970061ece711": {
          "model_module": "@jupyter-widgets/controls",
          "model_name": "DescriptionStyleModel",
          "state": {
            "_view_name": "StyleView",
            "_model_name": "DescriptionStyleModel",
            "description_width": "",
            "_view_module": "@jupyter-widgets/base",
            "_model_module_version": "1.5.0",
            "_view_count": null,
            "_view_module_version": "1.2.0",
            "_model_module": "@jupyter-widgets/controls"
          }
        },
        "b29b39aabd1a4929b451b7f92dce255d": {
          "model_module": "@jupyter-widgets/base",
          "model_name": "LayoutModel",
          "state": {
            "_view_name": "LayoutView",
            "grid_template_rows": null,
            "right": null,
            "justify_content": null,
            "_view_module": "@jupyter-widgets/base",
            "overflow": null,
            "_model_module_version": "1.2.0",
            "_view_count": null,
            "flex_flow": null,
            "width": null,
            "min_width": null,
            "border": null,
            "align_items": null,
            "bottom": null,
            "_model_module": "@jupyter-widgets/base",
            "top": null,
            "grid_column": null,
            "overflow_y": null,
            "overflow_x": null,
            "grid_auto_flow": null,
            "grid_area": null,
            "grid_template_columns": null,
            "flex": null,
            "_model_name": "LayoutModel",
            "justify_items": null,
            "grid_row": null,
            "max_height": null,
            "align_content": null,
            "visibility": null,
            "align_self": null,
            "height": null,
            "min_height": null,
            "padding": null,
            "grid_auto_rows": null,
            "grid_gap": null,
            "max_width": null,
            "order": null,
            "_view_module_version": "1.2.0",
            "grid_template_areas": null,
            "object_position": null,
            "object_fit": null,
            "grid_auto_columns": null,
            "margin": null,
            "display": null,
            "left": null
          }
        }
      }
    }
  },
  "cells": [
    {
      "cell_type": "code",
      "metadata": {
        "id": "YAL9Y5U7opJM"
      },
      "source": [
        "import torch \n",
        "import numpy as np\n",
        "import matplotlib.pyplot as plt\n",
        "import torchvision\n",
        "import torchvision.transforms as transforms\n"
      ],
      "execution_count": 1,
      "outputs": []
    },
    {
      "cell_type": "markdown",
      "metadata": {
        "id": "tIC-LwmmpMu6"
      },
      "source": [
        "# Tensor - Operations"
      ]
    },
    {
      "cell_type": "code",
      "metadata": {
        "colab": {
          "base_uri": "https://localhost:8080/"
        },
        "id": "JWTMqzpXpRLl",
        "outputId": "b5e4651f-3464-41e0-8795-938a44304f72"
      },
      "source": [
        "x = torch.empty(5,3) # khoi tao 1 ma tran rong size (5,3)\n",
        "y = torch.rand(5,3) # khoi tao 1 ma tran ngau nhien size (5,3)\n",
        "z = torch.zeros(5,3)  # khoi tao 1 ma tran 0 size (5,3)\n",
        "h = torch.tensor([[5, 3.5]])   # khoi tao 1 ma tran tu list \n",
        "\n",
        "print(x,y,z,h)\n",
        "print(x.size())\n",
        "print(torch.add(y,z), y+z)\n",
        "print(torch.div(y,1))\n",
        "print(y*x)\n",
        "print(y[:,1], y[2,1], y[2][1])\n",
        "\n"
      ],
      "execution_count": 2,
      "outputs": [
        {
          "output_type": "stream",
          "text": [
            "tensor([[2.7123e-30, 3.0956e-41, 3.3631e-44],\n",
            "        [0.0000e+00,        nan, 0.0000e+00],\n",
            "        [1.1578e+27, 1.1362e+30, 7.1547e+22],\n",
            "        [4.5828e+30, 1.2121e+04, 7.1846e+22],\n",
            "        [9.2198e-39, 7.0374e+22, 0.0000e+00]]) tensor([[0.7475, 0.0080, 0.5408],\n",
            "        [0.8807, 0.0230, 0.1295],\n",
            "        [0.6222, 0.9886, 0.1542],\n",
            "        [0.8541, 0.5966, 0.8408],\n",
            "        [0.4552, 0.9567, 0.5797]]) tensor([[0., 0., 0.],\n",
            "        [0., 0., 0.],\n",
            "        [0., 0., 0.],\n",
            "        [0., 0., 0.],\n",
            "        [0., 0., 0.]]) tensor([[5.0000, 3.5000]])\n",
            "torch.Size([5, 3])\n",
            "tensor([[0.7475, 0.0080, 0.5408],\n",
            "        [0.8807, 0.0230, 0.1295],\n",
            "        [0.6222, 0.9886, 0.1542],\n",
            "        [0.8541, 0.5966, 0.8408],\n",
            "        [0.4552, 0.9567, 0.5797]]) tensor([[0.7475, 0.0080, 0.5408],\n",
            "        [0.8807, 0.0230, 0.1295],\n",
            "        [0.6222, 0.9886, 0.1542],\n",
            "        [0.8541, 0.5966, 0.8408],\n",
            "        [0.4552, 0.9567, 0.5797]])\n",
            "tensor([[0.7475, 0.0080, 0.5408],\n",
            "        [0.8807, 0.0230, 0.1295],\n",
            "        [0.6222, 0.9886, 0.1542],\n",
            "        [0.8541, 0.5966, 0.8408],\n",
            "        [0.4552, 0.9567, 0.5797]])\n",
            "tensor([[2.0275e-30, 2.4943e-43, 1.8217e-44],\n",
            "        [0.0000e+00,        nan, 0.0000e+00],\n",
            "        [7.2043e+26, 1.1232e+30, 1.1032e+22],\n",
            "        [3.9143e+30, 7.2314e+03, 6.0410e+22],\n",
            "        [4.1967e-39, 6.7326e+22, 0.0000e+00]])\n",
            "tensor([0.0080, 0.0230, 0.9886, 0.5966, 0.9567]) tensor(0.9886) tensor(0.9886)\n"
          ],
          "name": "stdout"
        }
      ]
    },
    {
      "cell_type": "markdown",
      "metadata": {
        "id": "WMujz7VuZuK3"
      },
      "source": [
        "Kết nối với numpy"
      ]
    },
    {
      "cell_type": "code",
      "metadata": {
        "colab": {
          "base_uri": "https://localhost:8080/"
        },
        "id": "k5myjwkYZ6J1",
        "outputId": "c963cb3d-c524-4e92-cd27-38442471c285"
      },
      "source": [
        "# convert từ torch tensor sang numpy\n",
        "a= torch.ones(4)\n",
        "print(a)\n",
        "print(type(a))\n",
        "\n",
        "b = a.numpy()\n",
        "print(type(b))\n",
        "\n",
        "# khi a thay đổi --> b cũng thay đổi vì b là giá trị numpy của a\n",
        "a.add_(1)\n",
        "print(a)\n",
        "print(b)\n",
        "\n",
        "# convert từ numpy sang torch tensor \n",
        "a = np.ones(5)\n",
        "b=torch.from_numpy(a)\n",
        "print(type(a), type(b))\n",
        "print(a, b)"
      ],
      "execution_count": 3,
      "outputs": [
        {
          "output_type": "stream",
          "text": [
            "tensor([1., 1., 1., 1.])\n",
            "<class 'torch.Tensor'>\n",
            "<class 'numpy.ndarray'>\n",
            "tensor([2., 2., 2., 2.])\n",
            "[2. 2. 2. 2.]\n",
            "<class 'numpy.ndarray'> <class 'torch.Tensor'>\n",
            "[1. 1. 1. 1. 1.] tensor([1., 1., 1., 1., 1.], dtype=torch.float64)\n"
          ],
          "name": "stdout"
        }
      ]
    },
    {
      "cell_type": "markdown",
      "metadata": {
        "id": "ZEyqr08Ca4dq"
      },
      "source": [
        "Kiểm tra CUDA tensor\n"
      ]
    },
    {
      "cell_type": "code",
      "metadata": {
        "colab": {
          "base_uri": "https://localhost:8080/"
        },
        "id": "UwmKhLUnbXiC",
        "outputId": "aa0542e0-2912-4518-b101-d24e9e93f3a2"
      },
      "source": [
        "# kiểm tra xem có tồn tại CUDA trên máy không. Lưu ý nếu đang sử dụng google colab, bạn phải bật GPU tại Runtime>change runtime type để enable CUDA.\n",
        "if torch.cuda.is_available():\n",
        "  device = torch.device(\"cuda\") # Khởi tạo một cuda device object\n",
        "  y = torch.ones_like(x, device = device) # Trực tiếp khởi tạo một tensor trên GPU\n",
        "  x = x.to(device) # Truyền giá trị tensor vào thiết bị. Có thể truyền vào tên thiết bị: .to(\"cuda\")\n",
        "  z = x + y\n",
        "  print(z)\n",
        "  print(z.to(\"cpu\", torch.double)) # Trong hàm .to() ta có thể thay định dạng dữ liệ"
      ],
      "execution_count": 4,
      "outputs": [
        {
          "output_type": "stream",
          "text": [
            "tensor([[1.0000e+00, 1.0000e+00, 1.0000e+00],\n",
            "        [1.0000e+00,        nan, 1.0000e+00],\n",
            "        [1.1578e+27, 1.1362e+30, 7.1547e+22],\n",
            "        [4.5828e+30, 1.2122e+04, 7.1846e+22],\n",
            "        [1.0000e+00, 7.0374e+22, 1.0000e+00]], device='cuda:0')\n",
            "tensor([[1.0000e+00, 1.0000e+00, 1.0000e+00],\n",
            "        [1.0000e+00,        nan, 1.0000e+00],\n",
            "        [1.1578e+27, 1.1362e+30, 7.1547e+22],\n",
            "        [4.5828e+30, 1.2122e+04, 7.1846e+22],\n",
            "        [1.0000e+00, 7.0374e+22, 1.0000e+00]], dtype=torch.float64)\n"
          ],
          "name": "stdout"
        }
      ]
    },
    {
      "cell_type": "markdown",
      "metadata": {
        "id": "R7YCIGY-cL5J"
      },
      "source": [
        "# **Autograd: Tự động tính đạo hàm**\n",
        "Trung tâm của toàn bộ các mạng nơ ron hoạt động trên pytorch là autograd package\n",
        "\n",
        "**Chức năng của autograd**: Tự động tính toán đạo hàm trên toàn bộ các toán tử của tensors. Nó là một framework được định nghĩa trong quá trình chạy, có nghĩa rằng quá trình lan truyền ngược được xác định khi mà code được chạy, và do đó mỗi vòng lặp có thể có kết quả thay đổi tham số theo lan truyền ngược khác nhau.\n",
        "\n",
        "**Theo dõi lịch sử của tensor torch**: torch.tensor là package khởi tạo các tensor torch. Mỗi một tensor torch sẽ có 1 thuộc tính là .requires_grad, nếu bạn set thuộc tính này về True, các toán tử triển khai trên tensor sẽ được theo dõi. Khi kết thúc quá trình lan truyền thuận (hoặc quá trình tính toán output) bạn có thể gọi .backward() và mọi tính toán gradient sẽ được tự động thực hiện dựa trên lịch sử đã được lưu lại. Các gradient cho tensor này sẽ được tích lũy và xem tại thuộc tính .grad.\n",
        "\n",
        "Để dừng theo dõi một tensor chúng ta gọi vào hàm .detach(). Khi đó các hoạt động trên tensor sẽ không còn được lưu vết nữa.\n",
        "\n",
        "Ngoài ra để ngăn tensor lưu lại lịch sử (và sử dụng memory), chúng ta cũng có thể bao quanh code block triển khai tensor với hàm with torch.no_grad(): nó rất hữu ích trong trường hợp đánh giá model bởi vì khi thuộc tính requires_grad = True thì model sẽ có thể được cập nhật tham số. Nhưng quá trình đánh giá model sẽ không cần cập nhật tham số nên chúng ta không cần áp dụng gradient lên chúng. Đơn giản là set requires_grad = False."
      ]
    },
    {
      "cell_type": "code",
      "metadata": {
        "colab": {
          "base_uri": "https://localhost:8080/"
        },
        "id": "vesvYhgRcFkJ",
        "outputId": "801b0045-24f0-42c9-82a8-e4065ebb689e"
      },
      "source": [
        "# Ví dụ về lưu trữ đồ thị tính toán:\n",
        "# C1\n",
        "x = torch.ones(2, 2, requires_grad = True)\n",
        "print(x)\n",
        "\n",
        "y = x+2\n",
        "print(y)\n",
        "print(y.grad_fn)\n",
        "z = y * y * 3\n",
        "out = z.mean()\n",
        "print(z)\n",
        "print(out)\n",
        "\n",
        "\n",
        "#C2\n",
        "a = torch.ones(3, 3)\n",
        "print(a)\n",
        "print(a.requires_grad)\n",
        "a.requires_grad_(True)\n",
        "print(a.requires_grad)\n",
        "b = (a*a).sum()\n",
        "print(b)\n",
        "print(b.grad_fn)\n",
        "\n"
      ],
      "execution_count": 5,
      "outputs": [
        {
          "output_type": "stream",
          "text": [
            "tensor([[1., 1.],\n",
            "        [1., 1.]], requires_grad=True)\n",
            "tensor([[3., 3.],\n",
            "        [3., 3.]], grad_fn=<AddBackward0>)\n",
            "<AddBackward0 object at 0x7f9c495e35d0>\n",
            "tensor([[27., 27.],\n",
            "        [27., 27.]], grad_fn=<MulBackward0>)\n",
            "tensor(27., grad_fn=<MeanBackward0>)\n",
            "tensor([[1., 1., 1.],\n",
            "        [1., 1., 1.],\n",
            "        [1., 1., 1.]])\n",
            "False\n",
            "True\n",
            "tensor(9., grad_fn=<SumBackward0>)\n",
            "<SumBackward0 object at 0x7f9c495e3a50>\n"
          ],
          "name": "stdout"
        }
      ]
    },
    {
      "cell_type": "code",
      "metadata": {
        "colab": {
          "base_uri": "https://localhost:8080/"
        },
        "id": "07wN7q3tgw9b",
        "outputId": "8c051e0d-e297-4232-9bf2-6b4eb63ff3e1"
      },
      "source": [
        "# Gradients: thực hiện một lan truyền ngược (backprop) thông qua hàm out.backward()\n",
        "out.backward()\n",
        "print(x.grad)   # Đây chính là đạo hàm của mỗi phần tử của x theo y: out = y = 3(x+2)^2/4  --> dy/dx = 3(x+2)/2\n"
      ],
      "execution_count": 6,
      "outputs": [
        {
          "output_type": "stream",
          "text": [
            "tensor([[4.5000, 4.5000],\n",
            "        [4.5000, 4.5000]])\n"
          ],
          "name": "stdout"
        }
      ]
    },
    {
      "cell_type": "markdown",
      "metadata": {
        "id": "oHMWZQENkKA7"
      },
      "source": [
        "**ví dụ về tích vector-jacobian.**"
      ]
    },
    {
      "cell_type": "code",
      "metadata": {
        "id": "QTOY7K24kSLq"
      },
      "source": [
        "# x = torch.randn(3, requires_grad = True)\n",
        "# yhat = torch.randn(3, requires_grad = True)*2\n",
        "# y = x*2\n",
        "# l = ((y-yhat)**2).mean()\n",
        "# print(l)\n",
        "\n",
        "# # Trong TH này y sẽ không còn là 1 scalar. Hàm torch.autograd sẽ không tính toán ma trận jacobian trực tiếp mà thay vào đó sẽ tính tích vector-jacobian theo vector v truyền vào đối số .backward().\n",
        "# # Khởi tạo một vector gradient tự do v\n",
        "# v = torch.tensor([0.1, 1.0, 0.001], dtype = torch.float)\n",
        "# # Tính ma trận Jacobian (đạo hàm của y theo v)\n",
        "# l.backward(v)\n",
        "# # Tính tích vector-jacobian chính là đạo hàm của \n",
        "# print(x.grad)\n",
        "\n",
        "# # Để dừng autograd theo dõi các thay đổi lịch sử trên tensor, chúng ta có thể thiết lập .requires_grad = True hoặc đặt các biến đổi tensor trong block code torch.no_grad().\n",
        "# print(x.requires_grad)\n",
        "# print((x*x).requires_grad)\n",
        "# with torch.no_grad():\n",
        "#   print((x*x).requires_grad)"
      ],
      "execution_count": 7,
      "outputs": []
    },
    {
      "cell_type": "markdown",
      "metadata": {
        "id": "Si7ceUq_lL1z"
      },
      "source": [
        "#Neural Network \n"
      ]
    },
    {
      "cell_type": "markdown",
      "metadata": {
        "id": "SQCoU_B9qSJU"
      },
      "source": [
        "---\n",
        "**Kiến trúc mạng CNN**\n",
        "\n",
        "Các mạng neural sẽ được xây dựng dựa trên package torch.nn. Dựa trên autograd model sẽ xác định đạo hàm bậc 1 theo các chiều dữ liệu. Một nn.Module sẽ bao gồm các layers và một phương thức forward(input) để trả ra kết quả output.\n"
      ]
    },
    {
      "cell_type": "code",
      "metadata": {
        "colab": {
          "base_uri": "https://localhost:8080/"
        },
        "id": "YBwa_FzHlXYU",
        "outputId": "1ed5405c-7819-415f-f325-2ba5cf675434"
      },
      "source": [
        "import torch\n",
        "import torch.nn as nn\n",
        "\n",
        "\n",
        "\n",
        "# This is architecture Lenet with tensorflow \n",
        "# model = models.Sequential()\n",
        "# model.add(layers.Conv2D(6, 5, activation='tanh', input_shape=x_train.shape[1:]))\n",
        "# model.add(layers.AveragePooling2D(2))\n",
        "# model.add(layers.Activation('sigmoid'))\n",
        "# model.add(layers.Conv2D(16, 5, activation='tanh'))\n",
        "# model.add(layers.AveragePooling2D(2))\n",
        "# model.add(layers.Activation('sigmoid'))\n",
        "# model.add(layers.Conv2D(120, 5, activation='tanh'))\n",
        "# model.add(layers.Flatten())\n",
        "# model.add(layers.Dense(84, activation='tanh'))\n",
        "# model.add(layers.Dense(10, activation='softmax'))\n",
        "\n",
        "\n",
        "class Net(nn.Module):\n",
        "  def __init__(self, embedding):\n",
        "    super(Net, self).__init__()\n",
        "\n",
        "    # define Convolutional layers, pooling layers, Dropout layers, Batch Normalization layers\n",
        "    self.cnn_layers = nn.Sequential(\n",
        "        # Defining a 2D convolutional layer + maxpooling 2D\n",
        "        nn.Conv2d(in_channels=3, out_channels=6, kernel_size=5,stride=1),\n",
        "        nn.BatchNorm2d(num_features=6), # usually num_features = out_channels in pre-Conv\n",
        "        nn.ReLU(inplace=True), # inplace=True means that it will modify the input directly, without allocating any additional output (có ghi đè giá trị trước đó bằng giá trị được tính toán hay không)\n",
        "        nn.AvgPool2d(kernel_size=2, stride=2),\n",
        "\n",
        "         # Defining a 2D convolutional layer + maxpooling 2D\n",
        "        nn.Conv2d(in_channels=6, out_channels=16, kernel_size=5,stride=1),\n",
        "        nn.BatchNorm2d(num_features=16), # usually num_features = out_channels in pre-Conv\n",
        "        nn.ReLU(inplace=True),\n",
        "        nn.AvgPool2d(kernel_size=2, stride=2)\n",
        "    )\n",
        "\n",
        "    # define Fully connected layers\n",
        "    self.linear_layers = nn.Sequential(\n",
        "        nn.Linear(16*5*5, 120),\n",
        "        nn.ReLU(inplace=True),\n",
        "        nn.Linear(120, 84),\n",
        "        nn.ReLU(inplace=True),\n",
        "        nn.Linear(84, embedding),\n",
        "        nn.Softmax()\n",
        "    )\n",
        "\n",
        "\n",
        "  # Defining the forward pass    \n",
        "  def forward(self, x):\n",
        "    x = self.cnn_layers(x)\n",
        "    x = x.view(x.size(0), -1)   # Flatten()\n",
        "    x = self.linear_layers(x)\n",
        "\n",
        "    return x\n",
        "\n",
        "\n",
        "model = Net(10)\n",
        "\n",
        "print(model)\n"
      ],
      "execution_count": 2,
      "outputs": [
        {
          "output_type": "stream",
          "text": [
            "Net(\n",
            "  (cnn_layers): Sequential(\n",
            "    (0): Conv2d(3, 6, kernel_size=(5, 5), stride=(1, 1))\n",
            "    (1): BatchNorm2d(6, eps=1e-05, momentum=0.1, affine=True, track_running_stats=True)\n",
            "    (2): ReLU(inplace=True)\n",
            "    (3): AvgPool2d(kernel_size=2, stride=2, padding=0)\n",
            "    (4): Conv2d(6, 16, kernel_size=(5, 5), stride=(1, 1))\n",
            "    (5): BatchNorm2d(16, eps=1e-05, momentum=0.1, affine=True, track_running_stats=True)\n",
            "    (6): ReLU(inplace=True)\n",
            "    (7): AvgPool2d(kernel_size=2, stride=2, padding=0)\n",
            "  )\n",
            "  (linear_layers): Sequential(\n",
            "    (0): Linear(in_features=400, out_features=120, bias=True)\n",
            "    (1): ReLU(inplace=True)\n",
            "    (2): Linear(in_features=120, out_features=84, bias=True)\n",
            "    (3): ReLU(inplace=True)\n",
            "    (4): Linear(in_features=84, out_features=10, bias=True)\n",
            "    (5): Softmax(dim=None)\n",
            "  )\n",
            ")\n"
          ],
          "name": "stdout"
        }
      ]
    },
    {
      "cell_type": "markdown",
      "metadata": {
        "id": "MPEa1dCEK7mf"
      },
      "source": [
        "Test Network"
      ]
    },
    {
      "cell_type": "code",
      "metadata": {
        "colab": {
          "base_uri": "https://localhost:8080/"
        },
        "id": "Lp1mfCQnpB9B",
        "outputId": "99cf3b80-93d8-470d-b33a-1b0e3b55577d"
      },
      "source": [
        "# Các tham số huấn luyện (tham số mà có thể thay đổi được trong huấn luyện) của mô hình được trả về bằng hàm net.parameters().\n",
        "params = list(model.parameters())\n",
        "print(len(params))\n",
        "# print(params)\n",
        "print(params[0].size())  # conv1's .weight\n",
        "\n",
        "\n",
        "# test Net\n",
        "input = torch.randn(1, 3, 32, 32)   # Nếu có một mẫu đơn lẻ, chỉ cần sử dụng input.unsqueeze(0) để thêm vào một chiều batch size giả mạo.\n",
        "out = model(input)  # tính toán dựa vào các tham số được khởi tạo ban đầu trong mô hình\n",
        "print(out)\n",
        "print(out.sum())  # kiểm tra softmax activation\n",
        "\n",
        "\n",
        "# # chuyển toàn bộ các gradients trong bộ nhớ đệm về 0 bằng hàm .zero_grad() và lan truyền ngược với gradients ngẫu nhiên.\n",
        "# model.zero_grad()\n",
        "# out.backward(torch.randn(1, 10))"
      ],
      "execution_count": 3,
      "outputs": [
        {
          "output_type": "stream",
          "text": [
            "14\n",
            "torch.Size([6, 3, 5, 5])\n",
            "tensor([[0.1003, 0.1006, 0.0989, 0.1046, 0.0908, 0.0941, 0.1114, 0.1050, 0.1134,\n",
            "         0.0808]], grad_fn=<SoftmaxBackward>)\n",
            "tensor(1., grad_fn=<SumBackward0>)\n"
          ],
          "name": "stdout"
        },
        {
          "output_type": "stream",
          "text": [
            "/usr/local/lib/python3.7/dist-packages/torch/nn/modules/container.py:139: UserWarning: Implicit dimension choice for softmax has been deprecated. Change the call to include dim=X as an argument.\n",
            "  input = module(input)\n"
          ],
          "name": "stderr"
        }
      ]
    },
    {
      "cell_type": "markdown",
      "metadata": {
        "id": "Yda4Pjtnp_vA"
      },
      "source": [
        "---\n",
        "**Tổng kết:**\n",
        "\n",
        "\n",
        "* torch.Tensor: là một mảng nhiều chiều hỗ trợ các biến đổi autograd như backward(). Và cũng lưu trữ các gradients của tensor.\n",
        "* nn.Module: Neural network module. Thuận tiện trong đóng gói các tham số với sự hỗ trợ để đẩy chúng lên GPU, export và loading tham số,….\n",
        "* nn.Parameter: Là một dạng tensor lưu trữ tham số huấn luyện và được phân bố như một thuộc tính của Module.\n",
        "* autograd.Function: Kế thừa quá trình lan truyền thuận và lan truyền ngược của một biến đổi autograd. Mọi triển khai Tensor tạo ra ít nhất Function node kết nối đến function được tạo bởi tensor và mã hóa lịch sử của chúng.\n",
        "\n",
        "\n",
        "---\n",
        "\n"
      ]
    },
    {
      "cell_type": "markdown",
      "metadata": {
        "id": "S2mwpL09qXKo"
      },
      "source": [
        "\n",
        "\n",
        "\n",
        "**Load Data**\n",
        "\n",
        "---\n",
        "\n"
      ]
    },
    {
      "cell_type": "code",
      "metadata": {
        "colab": {
          "base_uri": "https://localhost:8080/",
          "height": 151,
          "referenced_widgets": [
            "5c96efeadade43c085db7b780ab0efac",
            "2d62cb90123e4577a71c0b20e3a2d21c",
            "7f3e9680a110486bb889486d944973ef",
            "dce2b6dbbd8644eba3dfa62c18a3d6ab",
            "d5d01ec39b814c97801bef11d63c13d2",
            "5250cbf98b88488190e852e1db6b848e",
            "0f84d71a044848d1b24b970061ece711",
            "b29b39aabd1a4929b451b7f92dce255d"
          ]
        },
        "id": "ym1RdzIuqLZu",
        "outputId": "15ebb5c3-3494-4796-db1b-9d8cfbd70188"
      },
      "source": [
        "# Xây dựng một chuẩn hóa đầu vào cho ảnh\n",
        "\n",
        "transform = transforms.Compose(\n",
        "  [transforms.ToTensor(),\n",
        "  transforms.Normalize((0.5, 0.5, 0.5), (0.5, 0.5, 0.5))]\n",
        ")\n",
        "\n",
        "# Khởi tạo dữ trainset qui định dữ liệu training\n",
        "trainset = torchvision.datasets.CIFAR10(root = './CIFAR10', train = True, \n",
        "                                       download = True, transform = transform)\n",
        "\n",
        "# Khởi tạo trainloader qui định cách truyền dữ liệu vào model theo batch. \n",
        "trainloader = torch.utils.data.DataLoader(trainset, batch_size = 4, \n",
        "                                         shuffle = True, num_workers = 2)\n",
        "\n",
        "# Tương tự nhưng đối với test\n",
        "testset = torchvision.datasets.CIFAR10(root = './CIFAR10', train = False, \n",
        "                                      download = True, transform = transform)\n",
        "\n",
        "testloader = torch.utils.data.DataLoader(testset, batch_size = 4,\n",
        "                                              shuffle = False, num_workers = 2)\n",
        "\n",
        "# Nhãn cho các class\n",
        "classes = ('plane', 'car', 'bird', 'cat',\n",
        "           'deer', 'dog', 'frog', 'horse', 'ship', 'truck')\n",
        "\n",
        "print(type(trainset[0][0]))\n",
        "print(trainset[0][0].size())\n"
      ],
      "execution_count": 4,
      "outputs": [
        {
          "output_type": "stream",
          "text": [
            "Downloading https://www.cs.toronto.edu/~kriz/cifar-10-python.tar.gz to ./CIFAR10/cifar-10-python.tar.gz\n"
          ],
          "name": "stdout"
        },
        {
          "output_type": "display_data",
          "data": {
            "application/vnd.jupyter.widget-view+json": {
              "model_id": "5c96efeadade43c085db7b780ab0efac",
              "version_minor": 0,
              "version_major": 2
            },
            "text/plain": [
              "HBox(children=(FloatProgress(value=0.0, max=170498071.0), HTML(value='')))"
            ]
          },
          "metadata": {
            "tags": []
          }
        },
        {
          "output_type": "stream",
          "text": [
            "\n",
            "Extracting ./CIFAR10/cifar-10-python.tar.gz to ./CIFAR10\n",
            "Files already downloaded and verified\n",
            "<class 'torch.Tensor'>\n",
            "torch.Size([3, 32, 32])\n"
          ],
          "name": "stdout"
        }
      ]
    },
    {
      "cell_type": "markdown",
      "metadata": {
        "id": "wzAEjXzIL15C"
      },
      "source": [
        "**Show some images**"
      ]
    },
    {
      "cell_type": "code",
      "metadata": {
        "colab": {
          "base_uri": "https://localhost:8080/",
          "height": 189
        },
        "id": "hTfEBsdWLzfm",
        "outputId": "538e1024-18ec-4cc8-b3a5-1c8667167a61"
      },
      "source": [
        "def imshow(img):\n",
        "    img = img / 2 + 0.5     # unnormalize\n",
        "    npimg = img.numpy()\n",
        "    plt.imshow(np.transpose(npimg, (1, 2, 0)))\n",
        "    plt.show()\n",
        "\n",
        "\n",
        "# get some random training images\n",
        "dataiter = iter(trainloader)\n",
        "images, labels = dataiter.next()\n",
        "\n",
        "# show images\n",
        "imshow(torchvision.utils.make_grid(images))\n",
        "# print labels\n",
        "print(' '.join('%5s' % classes[labels[j]] for j in range(4)))\n",
        "print(type(trainloader))\n",
        "print(images.shape)"
      ],
      "execution_count": 5,
      "outputs": [
        {
          "output_type": "display_data",
          "data": {
            "image/png": "[encoded data removed]",
            "text/plain": [
              "<Figure size 432x288 with 1 Axes>"
            ]
          },
          "metadata": {
            "tags": [],
            "needs_background": "light"
          }
        },
        {
          "output_type": "stream",
          "text": [
            "plane   car  deer   cat\n",
            "<class 'torch.utils.data.dataloader.DataLoader'>\n",
            "torch.Size([4, 3, 32, 32])\n"
          ],
          "name": "stdout"
        }
      ]
    },
    {
      "cell_type": "markdown",
      "metadata": {
        "id": "m9fnwPorMAPv"
      },
      "source": [
        "**Architecture network, Optimizer and Loss function**"
      ]
    },
    {
      "cell_type": "code",
      "metadata": {
        "id": "glVpB1ZWL61B"
      },
      "source": [
        "epochs = 10\n",
        "learning_rate = 0.001\n",
        "\n",
        "criterion = nn.CrossEntropyLoss()\n",
        "# optimizer = torch.optim.SGD(model.parameters(), lr = 0.001, momentum = 0.1)\n",
        "optimizer = torch.optim.Adam(model.parameters(), lr=learning_rate)\n"
      ],
      "execution_count": 6,
      "outputs": []
    },
    {
      "cell_type": "markdown",
      "metadata": {
        "id": "rhSdmELsMzRx"
      },
      "source": [
        "**Check GPU**"
      ]
    },
    {
      "cell_type": "code",
      "metadata": {
        "id": "VIgQieJmM1RV",
        "colab": {
          "base_uri": "https://localhost:8080/"
        },
        "outputId": "53fb0301-923e-4847-a9b8-c3cf640da7fe"
      },
      "source": [
        "# checking if GPU is available\n",
        "if torch.cuda.is_available():\n",
        "    model = model.cuda()\n",
        "    criterion = criterion.cuda()\n",
        "    \n",
        "print(model)"
      ],
      "execution_count": 7,
      "outputs": [
        {
          "output_type": "stream",
          "text": [
            "Net(\n",
            "  (cnn_layers): Sequential(\n",
            "    (0): Conv2d(3, 6, kernel_size=(5, 5), stride=(1, 1))\n",
            "    (1): BatchNorm2d(6, eps=1e-05, momentum=0.1, affine=True, track_running_stats=True)\n",
            "    (2): ReLU(inplace=True)\n",
            "    (3): AvgPool2d(kernel_size=2, stride=2, padding=0)\n",
            "    (4): Conv2d(6, 16, kernel_size=(5, 5), stride=(1, 1))\n",
            "    (5): BatchNorm2d(16, eps=1e-05, momentum=0.1, affine=True, track_running_stats=True)\n",
            "    (6): ReLU(inplace=True)\n",
            "    (7): AvgPool2d(kernel_size=2, stride=2, padding=0)\n",
            "  )\n",
            "  (linear_layers): Sequential(\n",
            "    (0): Linear(in_features=400, out_features=120, bias=True)\n",
            "    (1): ReLU(inplace=True)\n",
            "    (2): Linear(in_features=120, out_features=84, bias=True)\n",
            "    (3): ReLU(inplace=True)\n",
            "    (4): Linear(in_features=84, out_features=10, bias=True)\n",
            "    (5): Softmax(dim=None)\n",
            "  )\n",
            ")\n"
          ],
          "name": "stdout"
        }
      ]
    },
    {
      "cell_type": "markdown",
      "metadata": {
        "id": "frD8Cv8YNMWX"
      },
      "source": [
        "**Training model (not GPU)**"
      ]
    },
    {
      "cell_type": "code",
      "metadata": {
        "colab": {
          "base_uri": "https://localhost:8080/"
        },
        "id": "Da_navHNORK1",
        "outputId": "55276e1e-305a-4f6f-eec5-f903df10ffca"
      },
      "source": [
        "for epoch in range(epochs): # loop over the dataset multiple times\n",
        "  running_loss = 0.0\n",
        "  for i, data in enumerate(trainloader, 0):\n",
        "    # get the inputs, data is a list of [inputs, labels]\n",
        "    inputs, labels = data\n",
        "    \n",
        "    # zero the parameter gradients\n",
        "    optimizer.zero_grad()\n",
        "    \n",
        "    # forward + backward + optimize\n",
        "    outputs = model(inputs)\n",
        "    # print(outputs, labels, '======')\n",
        "    loss = criterion(outputs, labels)\n",
        "    loss.backward()\n",
        "    optimizer.step()\n",
        "    \n",
        "    # print statistics\n",
        "    running_loss += loss.item()\n",
        "    if i % 2000 == 1999: # print every 2000 mini-batches\n",
        "      print('[%d, %5d] loss: %.3f' %\n",
        "           (epoch + 1, i + 1, running_loss/2000))\n",
        "      running_loss = 0.0\n",
        "      \n",
        "print('Finished Training')"
      ],
      "execution_count": 15,
      "outputs": [
        {
          "output_type": "stream",
          "text": [
            "/usr/local/lib/python3.7/dist-packages/torch/nn/modules/container.py:139: UserWarning: Implicit dimension choice for softmax has been deprecated. Change the call to include dim=X as an argument.\n",
            "  input = module(input)\n"
          ],
          "name": "stderr"
        },
        {
          "output_type": "stream",
          "text": [
            "[1,  2000] loss: 1.979\n",
            "[1,  4000] loss: 1.970\n",
            "[1,  6000] loss: 1.978\n",
            "[1,  8000] loss: 1.965\n",
            "[1, 10000] loss: 1.968\n",
            "[1, 12000] loss: 1.972\n",
            "[2,  2000] loss: 1.973\n",
            "[2,  4000] loss: 1.973\n",
            "[2,  6000] loss: 1.964\n",
            "[2,  8000] loss: 1.962\n",
            "[2, 10000] loss: 1.963\n",
            "[2, 12000] loss: 1.966\n",
            "Finished Training\n"
          ],
          "name": "stdout"
        }
      ]
    },
    {
      "cell_type": "markdown",
      "metadata": {
        "id": "lN7PXbyOIttM"
      },
      "source": [
        "**Training model with GPU**"
      ]
    },
    {
      "cell_type": "code",
      "metadata": {
        "colab": {
          "base_uri": "https://localhost:8080/"
        },
        "id": "-M0n6SrXIw4r",
        "outputId": "2c184177-560f-404d-8a35-197947cc3c1e"
      },
      "source": [
        "device = torch.device(\"cuda:0\" if torch.cuda.is_available() else \"cpu\")\n",
        "print(device)\n",
        "\n",
        "# model.to(device)\n",
        "\n",
        "# Hãy nhớ rằng bạn phải gửi inputs và targets tại mỗi bước huấn luyện lên GPU:\n",
        "\n",
        "for epoch in range(epochs): # loop over the dataset multiple times\n",
        "  running_loss = 0.0\n",
        "  for i, data in enumerate(trainloader, 0):\n",
        "    # get the inputs, data is a list of [inputs, labels]\n",
        "    inputs, labels = data[0].to(device), data[1].to(device)   # send input and label to GPU in each step\n",
        "    \n",
        "    # zero the parameter gradients\n",
        "    optimizer.zero_grad()\n",
        "    \n",
        "    # forward + backward + optimize\n",
        "    outputs = model(inputs)\n",
        "    # print(outputs, labels, '======')\n",
        "    loss = criterion(outputs, labels)\n",
        "    loss.backward()\n",
        "    optimizer.step()\n",
        "    \n",
        "    # print statistics\n",
        "    running_loss += loss.item()\n",
        "    if i % 2000 == 1999: # print every 2000 mini-batches\n",
        "      print('[%d, %5d] loss: %.3f' %\n",
        "           (epoch + 1, i + 1, running_loss/2000))\n",
        "      running_loss = 0.0\n",
        "      \n",
        "print('Finished Training')\n"
      ],
      "execution_count": 8,
      "outputs": [
        {
          "output_type": "stream",
          "text": [
            "cuda:0\n"
          ],
          "name": "stdout"
        },
        {
          "output_type": "stream",
          "text": [
            "/usr/local/lib/python3.7/dist-packages/torch/nn/modules/container.py:139: UserWarning: Implicit dimension choice for softmax has been deprecated. Change the call to include dim=X as an argument.\n",
            "  input = module(input)\n"
          ],
          "name": "stderr"
        },
        {
          "output_type": "stream",
          "text": [
            "[1,  2000] loss: 2.200\n",
            "[1,  4000] loss: 2.138\n",
            "[1,  6000] loss: 2.129\n",
            "[1,  8000] loss: 2.105\n",
            "[1, 10000] loss: 2.099\n",
            "[1, 12000] loss: 2.080\n",
            "[2,  2000] loss: 2.078\n",
            "[2,  4000] loss: 2.078\n",
            "[2,  6000] loss: 2.072\n",
            "[2,  8000] loss: 2.059\n",
            "[2, 10000] loss: 2.056\n",
            "[2, 12000] loss: 2.063\n",
            "[3,  2000] loss: 2.044\n",
            "[3,  4000] loss: 2.047\n",
            "[3,  6000] loss: 2.048\n",
            "[3,  8000] loss: 2.041\n",
            "[3, 10000] loss: 2.055\n",
            "[3, 12000] loss: 2.037\n",
            "[4,  2000] loss: 2.042\n",
            "[4,  4000] loss: 2.043\n",
            "[4,  6000] loss: 2.034\n",
            "[4,  8000] loss: 2.037\n",
            "[4, 10000] loss: 2.033\n",
            "[4, 12000] loss: 2.032\n",
            "[5,  2000] loss: 2.020\n",
            "[5,  4000] loss: 2.034\n",
            "[5,  6000] loss: 2.031\n",
            "[5,  8000] loss: 2.025\n",
            "[5, 10000] loss: 2.047\n",
            "[5, 12000] loss: 2.044\n",
            "[6,  2000] loss: 2.021\n",
            "[6,  4000] loss: 2.032\n",
            "[6,  6000] loss: 2.029\n",
            "[6,  8000] loss: 2.038\n",
            "[6, 10000] loss: 2.013\n",
            "[6, 12000] loss: 2.024\n",
            "[7,  2000] loss: 2.011\n",
            "[7,  4000] loss: 2.008\n",
            "[7,  6000] loss: 2.011\n",
            "[7,  8000] loss: 2.015\n",
            "[7, 10000] loss: 2.024\n",
            "[7, 12000] loss: 2.030\n",
            "[8,  2000] loss: 2.019\n",
            "[8,  4000] loss: 2.008\n",
            "[8,  6000] loss: 2.014\n",
            "[8,  8000] loss: 2.011\n",
            "[8, 10000] loss: 2.010\n",
            "[8, 12000] loss: 2.016\n",
            "[9,  2000] loss: 2.011\n",
            "[9,  4000] loss: 2.005\n",
            "[9,  6000] loss: 2.011\n",
            "[9,  8000] loss: 2.031\n",
            "[9, 10000] loss: 2.018\n",
            "[9, 12000] loss: 2.039\n",
            "[10,  2000] loss: 2.017\n",
            "[10,  4000] loss: 2.014\n",
            "[10,  6000] loss: 2.012\n",
            "[10,  8000] loss: 2.011\n",
            "[10, 10000] loss: 2.024\n",
            "[10, 12000] loss: 2.017\n",
            "Finished Training\n"
          ],
          "name": "stdout"
        }
      ]
    },
    {
      "cell_type": "markdown",
      "metadata": {
        "id": "m9vLSwBSIeDJ"
      },
      "source": [
        "Test for 4 images"
      ]
    },
    {
      "cell_type": "code",
      "metadata": {
        "colab": {
          "base_uri": "https://localhost:8080/",
          "height": 240
        },
        "id": "mTgXh2V5TnYe",
        "outputId": "e0b29689-c0e5-4dd0-c3b8-ef97030956e7"
      },
      "source": [
        "# Hiển thị một vài dữ liệu\n",
        "# Sử dụng hàm iter để biến testloader thành 1 iterator, từ đó có thể lấy các giá trị tiếp theo.\n",
        "dataiter = iter(testloader)\n",
        "datatest = dataiter.next()\n",
        "images, labels = datatest[0].to(device), datatest[1].to(device) # for gpu\n",
        "\n",
        "# print image\n",
        "imshow(torchvision.utils.make_grid(datatest[0]))\n",
        "print('GroundTruth: {}'.format(' '.join('%5s' % classes[labels[j]] for j in range(4))))\n",
        "\n",
        "outputs = model(images)\n",
        "print(type(outputs))\n",
        "print(outputs.shape)\n",
        "\n",
        "_,  predicted = torch.max(outputs, 1)\n",
        "print('Predicted: ', ' '.join('%5s' % classes[predicted[j]]\n",
        "                              for j in range(4)))"
      ],
      "execution_count": 10,
      "outputs": [
        {
          "output_type": "display_data",
          "data": {
            "image/png": "[encoded data removed]",
            "text/plain": [
              "<Figure size 432x288 with 1 Axes>"
            ]
          },
          "metadata": {
            "tags": [],
            "needs_background": "light"
          }
        },
        {
          "output_type": "stream",
          "text": [
            "GroundTruth:   cat  ship  ship plane\n",
            "<class 'torch.Tensor'>\n",
            "torch.Size([4, 10])\n",
            "Predicted:    cat   car   car  ship\n"
          ],
          "name": "stdout"
        },
        {
          "output_type": "stream",
          "text": [
            "/usr/local/lib/python3.7/dist-packages/torch/nn/modules/container.py:139: UserWarning: Implicit dimension choice for softmax has been deprecated. Change the call to include dim=X as an argument.\n",
            "  input = module(input)\n"
          ],
          "name": "stderr"
        }
      ]
    },
    {
      "cell_type": "markdown",
      "metadata": {
        "id": "BU7nAOSLIh3G"
      },
      "source": [
        "Test for all test images"
      ]
    },
    {
      "cell_type": "code",
      "metadata": {
        "id": "lrvKUXgxIlPZ"
      },
      "source": [
        "print(type(labels))\n",
        "print(type(images))\n",
        "\n",
        "print(labels.shape)\n",
        "print(images.shape)\n",
        "\n",
        "correct = 0\n",
        "total = 0\n",
        "with torch.no_grad():\n",
        "    for data in testloader:\n",
        "        # images, labels = data\n",
        "        images, labels = data[0].to(device), data[1].to(device)   # for gpu\n",
        "        outputs = model(images)\n",
        "        _, predicted = torch.max(outputs.data, 1)\n",
        "        total += labels.size(0)\n",
        "        correct += (predicted == labels).sum().item()\n",
        "\n",
        "print('Accuracy of the network on the 10000 test images: %d %%' % (\n",
        "    100 * correct / total))"
      ],
      "execution_count": null,
      "outputs": []
    },
    {
      "cell_type": "markdown",
      "metadata": {
        "id": "c_sJZzHKIpUR"
      },
      "source": [
        "Test for each class"
      ]
    },
    {
      "cell_type": "code",
      "metadata": {
        "id": "CczvWhTKIs8Y"
      },
      "source": [
        "class_correct = list(0. for i in range(10))\n",
        "class_total = list(0. for i in range(10))\n",
        "with torch.no_grad():\n",
        "    for data in testloader:\n",
        "        # images, labels = data\n",
        "        images, labels = data[0].to(device), data[1].to(device)   # for gpu\n",
        "        outputs = model(images)\n",
        "        _, predicted = torch.max(outputs, 1)\n",
        "        c = (predicted == labels).squeeze()\n",
        "        for i in range(4):\n",
        "            label = labels[i]\n",
        "            class_correct[label] += c[i].item()\n",
        "            class_total[label] += 1\n",
        "\n",
        "\n",
        "for i in range(10):\n",
        "    print('Accuracy of %5s : %2d %%' % (\n",
        "        classes[i], 100 * class_correct[i] / class_total[i]))\n"
      ],
      "execution_count": null,
      "outputs": []
    }
  ]
}